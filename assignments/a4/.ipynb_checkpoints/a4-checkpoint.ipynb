{
 "cells": [
  {
   "cell_type": "markdown",
   "metadata": {},
   "source": [
    "## CSC420 Assignment 4\n",
    "### Brendan Neal | 1001160236 | nealbre1"
   ]
  },
  {
   "cell_type": "markdown",
   "metadata": {},
   "source": [
    "Imports and some helper functions"
   ]
  },
  {
   "cell_type": "code",
   "execution_count": 1,
   "metadata": {
    "collapsed": true
   },
   "outputs": [],
   "source": [
    "import numpy as np\n",
    "from scipy import spatial\n",
    "import cv2 as cv\n",
    "import math\n",
    "import re\n",
    "\n",
    "from matplotlib import pyplot as plot\n",
    "\n",
    "# Make the plot a certain size\n",
    "plot.rcParams[\"figure.figsize\"] = [8, 6]\n",
    "\n",
    "# Shows an image, and saves it if a filename is given\n",
    "def display_image(img, file_name=None):\n",
    "    \n",
    "    flt_img = img.astype(float)\n",
    "    img_max, img_min = np.max(flt_img), np.min(flt_img)\n",
    "    \n",
    "    norm_img = (((flt_img - img_min) / (img_max - img_min)) * 255).astype(np.uint8)\n",
    "    \n",
    "    if len(img.shape) == 2:\n",
    "        plot.imshow(norm_img, cmap='gray')\n",
    "    elif (len(img.shape) == 3):\n",
    "        plot.imshow(cv.cvtColor(norm_img, cv.COLOR_BGR2RGB))\n",
    "    plot.show()\n",
    "    \n",
    "    if file_name:\n",
    "        cv.imwrite(file_name, norm_img)"
   ]
  },
  {
   "cell_type": "markdown",
   "metadata": {},
   "source": [
    "#### Question 2a: Depth Calculation\n",
    "\n",
    "Formula for depth calculation:\n",
    "$$z = \\frac{f \\times b}{d}$$\n",
    "Where:\n",
    "\n",
    "$z$ : z-depth of the pixel\n",
    "\n",
    "$f$ : focal length of the camera(s)\n",
    "\n",
    "$b$ : base width of the two camera\n",
    "\n",
    "$d$ : disparity of the pixel\n",
    "\n",
    "Code to grab calculate depth image and get camera params:"
   ]
  },
  {
   "cell_type": "code",
   "execution_count": 2,
   "metadata": {
    "collapsed": false
   },
   "outputs": [],
   "source": [
    "def depth_image(disparity_image, base_width, focal_length):\n",
    "    \"\"\"\n",
    "    Creates a depth image using a disparity image and \n",
    "    some camera parameters (base width, focal length)\n",
    "    \"\"\"\n",
    "    numerator = base_width * focal_length\n",
    "    denominator = disparity_image.astype(float)\n",
    "    return numerator / denominator\n",
    "\n",
    "\n",
    "def get_camera_params(param_path):\n",
    "    \"\"\"\n",
    "    Returns dictionary of camera parameter values \n",
    "    stored in the file at param_path\n",
    "    \"\"\"\n",
    "    \n",
    "    # Lines of the file are of form (param : value)\n",
    "    line_regex = re.compile(r\"(?P<param>(\\w+)):(\\s+)(?P<value>(\\d+(\\.\\d+)?))\")\n",
    "    \n",
    "    with open(param_path, \"r\") as file:\n",
    "    \n",
    "        # Matching the regex to the lines in the file\n",
    "        matches = (line_regex.match(line) for line in file.readlines())\n",
    "        \n",
    "        # Organize the parameters into a dictionary for easy access\n",
    "        return {\n",
    "            match.group(\"param\") : float(match.group(\"value\"))\n",
    "            for match in matches\n",
    "        }"
   ]
  }
 ],
 "metadata": {
  "kernelspec": {
   "display_name": "Python 3",
   "language": "python",
   "name": "python3"
  },
  "language_info": {
   "codemirror_mode": {
    "name": "ipython",
    "version": 3
   },
   "file_extension": ".py",
   "mimetype": "text/x-python",
   "name": "python",
   "nbconvert_exporter": "python",
   "pygments_lexer": "ipython3",
   "version": "3.6.0"
  }
 },
 "nbformat": 4,
 "nbformat_minor": 2
}
