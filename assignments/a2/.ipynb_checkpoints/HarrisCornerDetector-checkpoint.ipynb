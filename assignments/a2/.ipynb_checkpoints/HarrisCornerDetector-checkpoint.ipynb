{
 "cells": [
  {
   "cell_type": "code",
   "execution_count": 0,
   "metadata": {
    "colab": {},
    "colab_type": "code",
    "collapsed": true,
    "id": "TY4JHthpfohH"
   },
   "outputs": [],
   "source": [
    "# Load the Drive helper and mount\n",
    "from google.colab import drive\n",
    "\n",
    "# This will prompt for authorization.\n",
    "drive.mount('/content/drive')"
   ]
  },
  {
   "cell_type": "code",
   "execution_count": 0,
   "metadata": {
    "colab": {},
    "colab_type": "code",
    "collapsed": true,
    "id": "W6xhnWkcfpCi"
   },
   "outputs": [],
   "source": [
    "# install OpenCV\n",
    "!pip install opencv-python\n",
    "\n",
    "# the usual ...\n",
    "%matplotlib inline\n",
    "import matplotlib.pyplot as plt\n",
    "import cv2\n",
    "import numpy as np"
   ]
  },
  {
   "cell_type": "code",
   "execution_count": 0,
   "metadata": {
    "colab": {},
    "colab_type": "code",
    "collapsed": true,
    "id": "q5nYC3uxftNR"
   },
   "outputs": [],
   "source": [
    "# read an image (make sure CavePainting.jpg is in the main folder in your Google Drive)\n",
    "img = cv2.imread('/content/drive/My Drive/window.jpg') # READS IN NUMPY ARRAY"
   ]
  },
  {
   "cell_type": "code",
   "execution_count": 0,
   "metadata": {
    "colab": {},
    "colab_type": "code",
    "collapsed": true,
    "id": "rsFEopuZf1Jf"
   },
   "outputs": [],
   "source": [
    "# let's make a function\n",
    "def imshowBGR2RGB( im ):\n",
    "  img = cv2.cvtColor(im, cv2.COLOR_BGR2RGB)\n",
    "  plt.imshow(img)\n",
    "  plt.axis('off')\n",
    "  return"
   ]
  },
  {
   "cell_type": "code",
   "execution_count": 0,
   "metadata": {
    "colab": {},
    "colab_type": "code",
    "collapsed": true,
    "id": "IDohXvv5f-62"
   },
   "outputs": [],
   "source": [
    "imshowBGR2RGB(img)"
   ]
  },
  {
   "cell_type": "code",
   "execution_count": 0,
   "metadata": {
    "colab": {},
    "colab_type": "code",
    "collapsed": true,
    "id": "gU0pwnAdgSFY"
   },
   "outputs": [],
   "source": [
    "gray = cv2.cvtColor(img, cv2.COLOR_BGR2GRAY)\n",
    "blur = cv2.GaussianBlur(gray,(5,5),7)\n",
    "Ix = cv2.Sobel(blur, cv2.CV_64F, 1, 0, ksize=5)\n",
    "Iy = cv2.Sobel(blur, cv2.CV_64F, 0, 1, ksize=5)\n"
   ]
  },
  {
   "cell_type": "code",
   "execution_count": 0,
   "metadata": {
    "colab": {},
    "colab_type": "code",
    "collapsed": true,
    "id": "zSXIrvXUgmBW"
   },
   "outputs": [],
   "source": [
    "plt.subplot(2,1,1), plt.imshow(Ix,cmap = 'gray')\n",
    "plt.subplot(2,1,2), plt.imshow(Iy,cmap = 'gray')\n"
   ]
  },
  {
   "cell_type": "code",
   "execution_count": 0,
   "metadata": {
    "colab": {},
    "colab_type": "code",
    "collapsed": true,
    "id": "4K6ZbuA3gth1"
   },
   "outputs": [],
   "source": [
    "IxIy = np.multiply(Ix, Iy)\n",
    "Ix2 = np.multiply(Ix, Ix)\n",
    "Iy2 = np.multiply(Iy, Iy)"
   ]
  },
  {
   "cell_type": "code",
   "execution_count": 0,
   "metadata": {
    "colab": {},
    "colab_type": "code",
    "collapsed": true,
    "id": "ZgzeGFCphAKp"
   },
   "outputs": [],
   "source": [
    "Ix2_blur = cv2.GaussianBlur(Ix2,(7,7),10) \n",
    "Iy2_blur = cv2.GaussianBlur(Iy2,(7,7),10) \n",
    "IxIy_blur = cv2.GaussianBlur(IxIy,(7,7),10) "
   ]
  },
  {
   "cell_type": "code",
   "execution_count": 0,
   "metadata": {
    "colab": {},
    "colab_type": "code",
    "collapsed": true,
    "id": "L4aljhuQh2_v"
   },
   "outputs": [],
   "source": [
    "plt.subplot(1,3,1), plt.imshow(Ix2_blur,cmap = 'gray')\n",
    "plt.subplot(1,3,2), plt.imshow(Iy2_blur,cmap = 'gray')\n",
    "plt.subplot(1,3,3), plt.imshow(IxIy_blur,cmap = 'gray')\n"
   ]
  },
  {
   "cell_type": "code",
   "execution_count": 0,
   "metadata": {
    "colab": {},
    "colab_type": "code",
    "collapsed": true,
    "id": "v2tekMMuiEZs"
   },
   "outputs": [],
   "source": [
    "det = np.multiply(Ix2_blur, Iy2_blur) - np.multiply(IxIy_blur,IxIy_blur)\n",
    "trace = Ix2_blur + Iy2_blur"
   ]
  },
  {
   "cell_type": "code",
   "execution_count": 0,
   "metadata": {
    "colab": {},
    "colab_type": "code",
    "collapsed": true,
    "id": "Rnu4CwqwizvX"
   },
   "outputs": [],
   "source": [
    "plt.subplot(1,2,1), plt.imshow(det,cmap = 'gray')\n",
    "plt.subplot(1,2,2), plt.imshow(trace,cmap = 'gray')"
   ]
  },
  {
   "cell_type": "code",
   "execution_count": 0,
   "metadata": {
    "colab": {},
    "colab_type": "code",
    "collapsed": true,
    "id": "W5iTiGc6i_b2"
   },
   "outputs": [],
   "source": [
    "R = det - 0.05 * np.multiply(trace,trace)\n",
    "plt.subplot(1,2,1), plt.imshow(img), plt.axis('off')\n",
    "plt.subplot(1,2,2), plt.imshow(R,cmap = 'gray'), plt.axis('off')"
   ]
  }
 ],
 "metadata": {
  "colab": {
   "collapsed_sections": [],
   "name": "HarrisCornerDetector.ipynb",
   "provenance": [],
   "version": "0.3.2"
  },
  "kernelspec": {
   "display_name": "Python 3",
   "language": "python",
   "name": "python3"
  },
  "language_info": {
   "codemirror_mode": {
    "name": "ipython",
    "version": 3
   },
   "file_extension": ".py",
   "mimetype": "text/x-python",
   "name": "python",
   "nbconvert_exporter": "python",
   "pygments_lexer": "ipython3",
   "version": "3.6.0"
  }
 },
 "nbformat": 4,
 "nbformat_minor": 0
}
