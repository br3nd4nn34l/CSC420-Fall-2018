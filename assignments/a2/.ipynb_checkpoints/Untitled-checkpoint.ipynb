{
 "cells": [
  {
   "cell_type": "markdown",
   "metadata": {},
   "source": [
    "## CSC420 Assignment 2\n",
    "### Brendan Neal | 1001160236 | nealbre1"
   ]
  },
  {
   "cell_type": "markdown",
   "metadata": {},
   "source": [
    "Imports and some helper functions"
   ]
  },
  {
   "cell_type": "code",
   "execution_count": 1,
   "metadata": {
    "collapsed": true
   },
   "outputs": [],
   "source": [
    "import numpy as np\n",
    "import cv2 as cv\n",
    "\n",
    "from matplotlib import pyplot as plot\n",
    "\n",
    "# Make the plot a certain size\n",
    "plot.rcParams[\"figure.figsize\"] = [8, 6]\n",
    "\n",
    "# Shows an image, and saves it if a filename is given\n",
    "def display_image(img, file_name=None):\n",
    "    \n",
    "    flt_img = img.astype(float)\n",
    "    img_max, img_min = np.max(flt_img), np.min(flt_img)\n",
    "    \n",
    "    norm_img = (((flt_img - img_min) / (img_max - img_min)) * 255).astype(np.uint8)\n",
    "    \n",
    "    if len(img.shape) == 2:\n",
    "        plot.imshow(norm_img, cmap='gray')\n",
    "    elif (len(img.shape) == 3):\n",
    "        plot.imshow(cv.cvtColor(norm_img, cv.COLOR_BGR2RGB))\n",
    "    plot.show()\n",
    "    \n",
    "    if file_name:\n",
    "        cv.imwrite(file_name, norm_img)"
   ]
  },
  {
   "cell_type": "markdown",
   "metadata": {},
   "source": [
    "#### Question 1a: Harris Corner Metric Implementation"
   ]
  },
  {
   "cell_type": "code",
   "execution_count": null,
   "metadata": {
    "collapsed": true
   },
   "outputs": [],
   "source": [
    "KERNEL_SIZE = 5\n",
    "\n",
    "def derivative(img, kernel_size, x_degree, y_degree):\n",
    "    return cv.Sobel(\n",
    "        img.astype(float), cv.CV_64F, \n",
    "        x_degree, y_degree, \n",
    "        ksize=KERNEL_SIZE\n",
    "    )\n",
    "\n",
    "def gauss_blur(img, kernel_sigma)\n",
    "    pass\n",
    "\n",
    "def harris_components(img):\n",
    "    \n",
    "    blurred = gauss_blur(img)\n",
    "    i_x = derivative(blurred, KERNEL_SIZE, 1, 0)\n",
    "    i_y = derivative(blurred, KERNEL_SIZE, 0, 1)\n",
    "    \n",
    "    i_x2 = gauss_blur(i_x ** 2)\n",
    "    i_y2 = gauss_blur(i_y ** 2)\n",
    "    i_xy = gauss_blur(i_x * i_y)\n",
    "    \n",
    "    det = (i_x2 * i_y2) - (i_xy ** 2)\n",
    "    trace = i_x2 + i_y2\n",
    "    \n",
    "    return det, trace\n",
    "\n",
    "def harmonic_harris(img):\n",
    "    det, trace = harris_components(img)\n",
    "    return det / trace\n",
    "\n",
    "def r_harris(img, k):\n",
    "    assert (0.04 <= k <= 0.06)\n",
    "    \n",
    "    det, trace = harris_components(img)\n",
    "    return det - (k * trace)"
   ]
  }
 ],
 "metadata": {
  "kernelspec": {
   "display_name": "Python 3",
   "language": "python",
   "name": "python3"
  },
  "language_info": {
   "codemirror_mode": {
    "name": "ipython",
    "version": 3
   },
   "file_extension": ".py",
   "mimetype": "text/x-python",
   "name": "python",
   "nbconvert_exporter": "python",
   "pygments_lexer": "ipython3",
   "version": "3.6.0"
  }
 },
 "nbformat": 4,
 "nbformat_minor": 2
}
